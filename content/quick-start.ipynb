{
 "cells": [
  {
   "cell_type": "code",
   "execution_count": null,
   "metadata": {},
   "outputs": [],
   "source": [
    "try:\n",
    "    import networkx\n",
    "    import pandapower\n",
    "    import seaborn\n",
    "    import pandas\n",
    "except ImportError:\n",
    "    import piplite\n",
    "    await piplite.install(\"networkx\")\n",
    "    await piplite.install(\"pandapower\")\n",
    "    await piplite.install(\"seaborn\")\n",
    "    await piplite.install(\"pandas\")"
   ]
  }
 ],
 "metadata": {
  "kernelspec": {
   "display_name": "xeus-python",
   "language": "python",
   "name": "xeus-python"
  },
  "language_info": {
   "codemirror_mode": {
    "name": "ipython",
    "version": 3
   },
   "file_extension": ".py",
   "mimetype": "text/x-python",
   "name": "python",
   "nbconvert_exporter": "python",
   "pygments_lexer": "ipython3",
   "version": "3.10.4"
  }
 },
 "nbformat": 4,
 "nbformat_minor": 4
}
